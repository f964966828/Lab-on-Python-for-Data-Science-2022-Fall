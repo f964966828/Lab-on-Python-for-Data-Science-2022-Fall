{
 "cells": [
  {
   "cell_type": "markdown",
   "metadata": {},
   "source": [
    "# Title\n",
    "\n",
    "**Exercise: A.1 - Guesstimate the β values**\n",
    "\n",
    "# Description\n",
    "\n",
    "The goal of this exercise is to **guess a model** based on the plot below and also calculate the MSE for your guess model.\n",
    "\n",
    "<img src=\"\thttps://harvard-iacs.github.io/2020-CS109A/lectures/lecture06/img/image.png\" style=\"width: 500px;\">\n",
    "\n",
    "# Instructions:\n",
    "\n",
    "We are trying to predict sales as a function of the advertising budget for TV using the data.\n",
    "To do so we need 1) a model and 2) a method to estimate how good the model is.\n",
    "\n",
    "- Guess the values of the  coefficients $\\beta_0$ and $\\beta_1$ by visually inspecting the graph above;\n",
    "- Plot your model's prediction (use the formula of a simple linear regression, no package allowed) ;\n",
    "- Change the values of the coefficients $\\beta_0$ and $\\beta_1$ to improve the fit;\n",
    "- Calculate the **Mean Squared Error (MSE)** for the model.\n",
    "\n",
    "\n",
    "# Hints:\n",
    "\n",
    "- Recall the formula for the linear regression model $\\hat{y}= \\beta_0 + \\beta_1*x$\n",
    "- Recall the formula for Mean Squared Error $MSE =\\frac{1}{n}\\sum_{i=1}^{n}(y_i-\\hat{y})^2$\n",
    "- Guess $\\beta_0$ by observing the intercept of your model and $\\beta_1$ looking at the slope\n",
    "\n",
    "<a href=\"https://numpy.org/doc/stable/reference/generated/numpy.mean.html\" target=\"_blank\">np.mean()</a> : Computes the arithmetic mean along the specified axis\n",
    "\n",
    "<a href=\"https://matplotlib.org/3.2.2/api/_as_gen/matplotlib.pyplot.plot.html\" target=\"_blank\">plt.plot()</a> : Plots x versus y as lines and/or markers\n",
    "\n",
    "<a href=\"https://matplotlib.org/3.1.1/api/_as_gen/matplotlib.pyplot.xlabel.html\" target=\"_blank\">plt.xlabel()</a> : Sets the label for the x-axis.\n",
    "\n",
    "<a href=\"https://matplotlib.org/3.1.1/api/_as_gen/matplotlib.pyplot.ylabel.html\" target=\"_blank\">plt.ylabel()</a> : Sets the label for the y-axis.\n",
    "\n",
    "<a href=\"https://matplotlib.org/3.1.1/api/_as_gen/matplotlib.pyplot.legend.html\" target=\"_blank\">plt.legend()</a> : Places a legend on the axes\n",
    "\n",
    "Note: This exercise is auto-graded and you can try multiple attempts. "
   ]
  },
  {
   "cell_type": "code",
   "execution_count": 1,
   "metadata": {},
   "outputs": [],
   "source": [
    "import numpy as np\n",
    "import pandas as pd\n",
    "import matplotlib.pyplot as plt\n",
    "%matplotlib inline"
   ]
  },
  {
   "cell_type": "markdown",
   "metadata": {},
   "source": [
    "### Reading the dataset"
   ]
  },
  {
   "cell_type": "code",
   "execution_count": 2,
   "metadata": {},
   "outputs": [],
   "source": [
    "# Data set used in this exercise :Advertising.csv\n",
    "data_filename = 'Advertising.csv'\n",
    "\n",
    "# Read the data using pandas libraries\n",
    "df = pd.read_csv(data_filename)"
   ]
  },
  {
   "cell_type": "code",
   "execution_count": 3,
   "metadata": {},
   "outputs": [],
   "source": [
    "# Create a new dataframe called `df_new` witch the columns 'TV' and 'sales'\n",
    "df_new = df[['TV', 'Sales']]"
   ]
  },
  {
   "cell_type": "code",
   "execution_count": 4,
   "metadata": {},
   "outputs": [
    {
     "data": {
      "text/plain": [
       "<matplotlib.legend.Legend at 0x114d5c190>"
      ]
     },
     "execution_count": 4,
     "metadata": {},
     "output_type": "execute_result"
    },
    {
     "data": {
      "image/png": "[encoded data removed]",
      "text/plain": [
       "<Figure size 432x288 with 1 Axes>"
      ]
     },
     "metadata": {
      "needs_background": "light"
     },
     "output_type": "display_data"
    }
   ],
   "source": [
    "# Plot the data\n",
    "\n",
    "plt.plot(df_new.TV, df_new.Sales, '*', label='data')\n",
    "plt.xlabel('TV')\n",
    "plt.ylabel('Sales')\n",
    "plt.legend()"
   ]
  },
  {
   "cell_type": "markdown",
   "metadata": {},
   "source": [
    "### Beta Estimation"
   ]
  },
  {
   "cell_type": "code",
   "execution_count": 5,
   "metadata": {},
   "outputs": [],
   "source": [
    "### edTest(test_betas) ###\n",
    "# Estimate beta0 by observing the value of y when x = 0\n",
    "beta0 = 5\n",
    "\n",
    "# Estimate beta1 - Check the slope for guidance\n",
    "beta1 = 1/15"
   ]
  },
  {
   "cell_type": "code",
   "execution_count": 6,
   "metadata": {},
   "outputs": [],
   "source": [
    "# Calculate prediction of x using beta0 and beta1\n",
    "y_predict = beta0 + beta1 * df_new.TV"
   ]
  },
  {
   "cell_type": "markdown",
   "metadata": {},
   "source": [
    "### Plotting the graph"
   ]
  },
  {
   "cell_type": "code",
   "execution_count": 7,
   "metadata": {},
   "outputs": [
    {
     "data": {
      "text/plain": [
       "<matplotlib.legend.Legend at 0x114f46fd0>"
      ]
     },
     "execution_count": 7,
     "metadata": {},
     "output_type": "execute_result"
    },
    {
     "data": {
      "image/png": "[encoded data removed]",
      "text/plain": [
       "<Figure size 432x288 with 1 Axes>"
      ]
     },
     "metadata": {
      "needs_background": "light"
     },
     "output_type": "display_data"
    }
   ],
   "source": [
    "# Plot the predicted values as well as the data\n",
    "plt.plot(df_new.TV, df_new.Sales, '*', label='data')\n",
    "plt.plot(df_new.TV, y_predict, label='model')\n",
    "plt.xlabel('TV')\n",
    "plt.ylabel('Sales')\n",
    "plt.legend()"
   ]
  },
  {
   "cell_type": "markdown",
   "metadata": {},
   "source": [
    "### MSE Computation"
   ]
  },
  {
   "cell_type": "code",
   "execution_count": 9,
   "metadata": {},
   "outputs": [
    {
     "name": "stdout",
     "output_type": "stream",
     "text": [
      "My MSE is: 13.80554311111111\n"
     ]
    }
   ],
   "source": [
    "### edTest(test_mse) ###\n",
    "# Calculate the MSE\n",
    "MSE = np.mean((df_new.Sales - y_predict) ** 2)\n",
    "\n",
    "# Print the results\n",
    "print(\"My MSE is: {0}\".format(MSE))"
   ]
  }
 ],
 "metadata": {
  "kernelspec": {
   "display_name": "Python 3.9.13 64-bit",
   "language": "python",
   "name": "python3"
  },
  "language_info": {
   "codemirror_mode": {
    "name": "ipython",
    "version": 3
   },
   "file_extension": ".py",
   "mimetype": "text/x-python",
   "name": "python",
   "nbconvert_exporter": "python",
   "pygments_lexer": "ipython3",
   "version": "3.9.13"
  },
  "vscode": {
   "interpreter": {
    "hash": "397704579725e15f5c7cb49fe5f0341eb7531c82d19f2c29d197e8b64ab5776b"
   }
  }
 },
 "nbformat": 4,
 "nbformat_minor": 4
}
