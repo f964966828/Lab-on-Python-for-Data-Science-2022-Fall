{
 "cells": [
  {
   "cell_type": "markdown",
   "metadata": {
    "id": "ub6otvARfW2G"
   },
   "source": [
    "# Rules\n",
    "* Internet and Books are ALLOWED\n",
    "* Name your file as following: StudentID_ChineseName/EnglishName_quiz#\n",
    "* Extension of your file or your file type should be .py"
   ]
  },
  {
   "cell_type": "markdown",
   "metadata": {
    "id": "CCgWEJkpTFmd"
   },
   "source": [
    "# Logistic regression\n",
    "- Using logistic regression predicting on MNIST database with multiple classes."
   ]
  },
  {
   "cell_type": "markdown",
   "metadata": {
    "id": "Q4WMHGV_dDC9"
   },
   "source": [
    "## Part I\n",
    "\n",
    "Use the MNIST data"
   ]
  },
  {
   "cell_type": "code",
   "execution_count": 1,
   "metadata": {
    "id": "wzZ6ZHr6dfqB"
   },
   "outputs": [],
   "source": [
    "from sklearn.datasets import fetch_openml\n",
    "mnist = fetch_openml(data_id=554)"
   ]
  },
  {
   "cell_type": "markdown",
   "metadata": {
    "id": "naQOWwcneMCL"
   },
   "source": [
    "Split into training and test with sklearn\n",
    "\n",
    "-Training dataset(60000,784) . Test dataset(10000,784)\n"
   ]
  },
  {
   "cell_type": "code",
   "execution_count": null,
   "metadata": {
    "id": "Jk6-52kDYGyp"
   },
   "outputs": [],
   "source": [
    "..."
   ]
  },
  {
   "cell_type": "markdown",
   "metadata": {
    "id": "ONqGIH5OecG_"
   },
   "source": [
    "Use logistic model from sklearn. \n",
    "* Set the max_iteration to 1000.\n",
    "* Set n_jobs to 5."
   ]
  },
  {
   "cell_type": "code",
   "execution_count": null,
   "metadata": {
    "id": "cGS4V1v-YHzF"
   },
   "outputs": [],
   "source": [
    "..."
   ]
  },
  {
   "cell_type": "markdown",
   "metadata": {
    "id": "ozSaE3CefoQC"
   },
   "source": [
    "Predict the model using test data. Check the accuracy by comparing the prediction with the label. **Remember to use test data, not train data!!**\n",
    "The result can be in **the scale of 0 to 1** or **percentage (%)**."
   ]
  },
  {
   "cell_type": "code",
   "execution_count": null,
   "metadata": {
    "id": "g_jkSJCAYI17"
   },
   "outputs": [],
   "source": [
    "...."
   ]
  },
  {
   "cell_type": "markdown",
   "metadata": {
    "id": "-p2ksplvf9xT"
   },
   "source": [
    "Show the confusion matrix. Check **metrics from sklearn** for confusion matrix!"
   ]
  },
  {
   "cell_type": "code",
   "execution_count": null,
   "metadata": {
    "id": "c54bzFoMYJ65"
   },
   "outputs": [],
   "source": [
    "..."
   ]
  },
  {
   "cell_type": "markdown",
   "metadata": {
    "id": "m2zzis0MgCEF"
   },
   "source": [
    "Using seaborn to visualize the confusion matrix"
   ]
  },
  {
   "cell_type": "code",
   "execution_count": null,
   "metadata": {
    "id": "tqCNk_M3ry1D"
   },
   "outputs": [],
   "source": [
    "import seaborn as sns\n",
    "\n",
    "plt.figure(figsize=(12,12))\n",
    "sns.heatmap(your_confusion_matrix, annot=True, \n",
    "            linewidths=.5, square = True, cmap = 'Blues_r', fmt='0.4g');\n",
    "\n",
    "plt.ylabel('Actual label')\n",
    "plt.xlabel('Predicted label')\n",
    "all_sample_title = 'Accuracy Score: {0}'.format(score2)\n",
    "plt.title(all_sample_title)"
   ]
  }
 ],
 "metadata": {
  "colab": {
   "provenance": []
  },
  "kernelspec": {
   "display_name": "Python 3 (ipykernel)",
   "language": "python",
   "name": "python3"
  },
  "language_info": {
   "codemirror_mode": {
    "name": "ipython",
    "version": 3
   },
   "file_extension": ".py",
   "mimetype": "text/x-python",
   "name": "python",
   "nbconvert_exporter": "python",
   "pygments_lexer": "ipython3",
   "version": "3.10.8"
  }
 },
 "nbformat": 4,
 "nbformat_minor": 1
}
